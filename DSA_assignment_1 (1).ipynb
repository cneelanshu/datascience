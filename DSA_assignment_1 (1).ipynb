{
 "cells": [
  {
   "cell_type": "markdown",
   "metadata": {},
   "source": [
    "Q1. Given an array of integers nums and an integer target, return indices of the two numbers such that they add up to target.\n",
    "\n",
    "You may assume that each input would have exactly one solution, and you may not use the same element twice.\n",
    "\n",
    "You can return the answer in any order.\n",
    "\n",
    "**Example:**\n",
    "Input: nums = [2,7,11,15], target = 9\n",
    "Output0 [0,1]\n",
    "\n",
    "**Explanation:** Because nums[0] + nums[1] == 9, we return [0, 1]\n"
   ]
  },
  {
   "cell_type": "code",
   "execution_count": 23,
   "metadata": {},
   "outputs": [
    {
     "data": {
      "text/plain": [
       "[0, 3]"
      ]
     },
     "execution_count": 23,
     "metadata": {},
     "output_type": "execute_result"
    }
   ],
   "source": [
    "#Q1.SOLN.\n",
    "\n",
    "def two_sums(nums, target):\n",
    "    \n",
    "    for i in range(len(nums)):\n",
    "        \n",
    "        rem = target - nums[i]\n",
    "        \n",
    "        if rem in nums[i+1:]:\n",
    "            \n",
    "            return [i, nums[i+1:].index(rem) + 1]\n",
    "        \n",
    "two_sums([2,3,4,7,8,5], 9)\n",
    "        \n",
    "    "
   ]
  },
  {
   "cell_type": "markdown",
   "metadata": {},
   "source": [
    " **Q2.** Given an integer array nums and an integer val, remove all occurrences of val in nums in-place. The order of the elements may be changed. Then return the number of elements in nums which are not equal to val.\n",
    "\n",
    "Consider the number of elements in nums which are not equal to val be k, to get accepted, you need to do the following things:\n",
    "\n",
    "- Change the array nums such that the first k elements of nums contain the elements which are not equal to val. The remaining elements of nums are not important as well as the size of nums.\n",
    "- Return k.\n",
    "\n",
    "**Example :**\n",
    "Input: nums = [3,2,2,3], val = 3\n",
    "\n",
    "Output: 2, nums = [2,2,_*,_*]\n",
    "\n",
    "**Explanation:** Your function should return k = 2, with the first two elements of nums being 2. It does not matter what you leave beyond the returned k (hence they are underscores)\n"
   ]
  },
  {
   "cell_type": "code",
   "execution_count": 33,
   "metadata": {},
   "outputs": [
    {
     "name": "stdout",
     "output_type": "stream",
     "text": [
      "Output: 4\n",
      "nums: [2, 5, 7, 8, '_', '_', '_']\n"
     ]
    }
   ],
   "source": [
    "# Q2. SOLN.\n",
    "\n",
    "def equal_val(nums, val):\n",
    "    \n",
    "    k = 0\n",
    "    \n",
    "    for i in range(len(nums)):\n",
    "        \n",
    "        if nums[i] != val:\n",
    "            \n",
    "            nums[k] = nums[i]\n",
    "            \n",
    "            k += 1 \n",
    "    return k\n",
    "\n",
    "nums = [3,3,2,5,3,7,8]\n",
    "\n",
    "val = 3\n",
    "\n",
    "k = equal_val(nums, val)\n",
    "\n",
    "print(\"Output:\", k)\n",
    "            \n",
    "print(\"nums:\", nums[:k] + [\"_\"] * (len(nums) - k))\n",
    "            \n",
    "                                   "
   ]
  },
  {
   "cell_type": "markdown",
   "metadata": {},
   "source": [
    "**Q3.** Given a sorted array of distinct integers and a target value, return the index if the target is found. If not, return the index where it would be if it were inserted in order.\n",
    "\n",
    "You must write an algorithm with O(log n) runtime complexity.\n",
    "\n",
    "**Example 1:**\n",
    "Input: nums = [1,3,5,6], target = 5\n",
    "\n",
    "Output: 2\n",
    "\n"
   ]
  },
  {
   "cell_type": "code",
   "execution_count": 12,
   "metadata": {},
   "outputs": [
    {
     "data": {
      "text/plain": [
       "2"
      ]
     },
     "execution_count": 12,
     "metadata": {},
     "output_type": "execute_result"
    }
   ],
   "source": [
    "# Q3. SOLN.\n",
    "\n",
    "\n",
    "def search_index(nums, target):\n",
    "    \n",
    "    left = 0\n",
    "    right = len(nums) - 1\n",
    "    \n",
    "    while left <= right:\n",
    "        \n",
    "        mid = (left + right) // 2\n",
    "        \n",
    "        if nums[mid] == target:\n",
    "            \n",
    "            return mid\n",
    "        \n",
    "        elif nums[mid] < target:\n",
    "            \n",
    "            left = mid + 1\n",
    "            \n",
    "            return left\n",
    "\n",
    "\n",
    "nums = [11, 13, 15 , 16]\n",
    "\n",
    "target = 15\n",
    "\n",
    "search_index(nums, target)\n",
    "\n"
   ]
  },
  {
   "cell_type": "markdown",
   "metadata": {},
   "source": [
    "**Q4.** You are given a large integer represented as an integer array digits, where each digits[i] is the ith digit of the integer. The digits are ordered from most significant to least significant in left-to-right order. The large integer does not contain any leading 0's.\n",
    "\n",
    "Increment the large integer by one and return the resulting array of digits.\n",
    "\n",
    "**Example 1:**\n",
    "Input: digits = [1,2,3]\n",
    "Output: [1,2,4]\n",
    "\n",
    "**Explanation:** The array represents the integer 123.\n",
    "\n",
    "Incrementing by one gives 123 + 1 = 124.\n",
    "Thus, the result should be [1,2,4].\n"
   ]
  },
  {
   "cell_type": "code",
   "execution_count": 19,
   "metadata": {},
   "outputs": [
    {
     "name": "stdout",
     "output_type": "stream",
     "text": [
      "[10, 20, 40]\n"
     ]
    }
   ],
   "source": [
    "# Q4.SOLN.\n",
    "\n",
    "def plus_one(digits):\n",
    "    \n",
    "    i = len(digits) - 1\n",
    "    \n",
    "    while i >= 0:\n",
    "        \n",
    "        digits[i] += 1\n",
    "        \n",
    "        return digits\n",
    "    \n",
    "\n",
    "\n",
    "digits = [10, 20, 39]\n",
    "result = plus_one(digits)\n",
    "\n",
    "print(result)\n"
   ]
  },
  {
   "cell_type": "markdown",
   "metadata": {},
   "source": [
    "**Q5.** You are given two integer arrays nums1 and nums2, sorted in non-decreasing order, and two integers m and n, representing the number of elements in nums1 and nums2 respectively.\n",
    "\n",
    "Merge nums1 and nums2 into a single array sorted in non-decreasing order.\n",
    "\n",
    "The final sorted array should not be returned by the function, but instead be stored inside the array nums1. To accommodate this, nums1 has a length of m + n, where the first m elements denote the elements that should be merged, and the last n elements are set to 0 and should be ignored. nums2 has a length of n.\n",
    "\n",
    "**Example 1:**\n",
    "Input: nums1 = [1,2,3,0,0,0], m = 3, nums2 = [2,5,6], n = 3\n",
    "Output: [1,2,2,3,5,6]\n",
    "\n",
    "**Explanation:** The arrays we are merging are [1,2,3] and [2,5,6].\n",
    "The result of the merge is [1,2,2,3,5,6] with the underlined elements coming from nums1\n"
   ]
  },
  {
   "cell_type": "code",
   "execution_count": 14,
   "metadata": {},
   "outputs": [
    {
     "name": "stdout",
     "output_type": "stream",
     "text": [
      "Output: [1, 2, 2, 3, 5, 6, 7, 9]\n"
     ]
    }
   ],
   "source": [
    "# Q5. SOLN. \n",
    "\n",
    "def merge(nums1, nums2, temp):\n",
    "    \n",
    "    i = 0\n",
    "    j = 0\n",
    "    k = 0\n",
    "    \n",
    "    n1 = len(nums1)\n",
    "    n2 = len(nums2)\n",
    "    \n",
    "    while i <= n1 - 1 and j <= n2 - 1:\n",
    "        \n",
    "        if nums1[i] < nums2[j]:\n",
    "            \n",
    "            temp[k] = nums1[i]\n",
    "            \n",
    "            i += 1\n",
    "        else:\n",
    "            temp[k] = nums2[j]\n",
    "            \n",
    "            j += 1\n",
    "        \n",
    "        k += 1\n",
    "    \n",
    "    while i <= n1 - 1:\n",
    "        temp[k] = nums1[i]\n",
    "        i += 1\n",
    "        k += 1\n",
    "    \n",
    "\n",
    "    while j <= n2 - 1:\n",
    "        temp[k] = nums2[j]\n",
    "        j += 1\n",
    "        k += 1\n",
    "\n",
    "n1 = len(nums1)\n",
    "n2 = len(nums2)\n",
    "        \n",
    "        \n",
    "nums1 = [None]*n1\n",
    "\n",
    "nums2 = [None]*n2\n",
    "\n",
    "nums1 = [1, 2, 3, 7, 9]\n",
    "\n",
    "nums2 = [2, 5, 6]\n",
    "\n",
    "\n",
    "\n",
    "temp = [0]*(n1 + n2)      \n",
    "\n",
    "merge(nums1, nums2, temp)\n",
    "\n",
    "print(\"Output:\", temp)"
   ]
  },
  {
   "cell_type": "markdown",
   "metadata": {},
   "source": [
    "**Q6.** Given an integer array nums, return true if any value appears at least twice in the array, and return false if every element is distinct.\n",
    "\n",
    "**Example 1:**\n",
    "Input: nums = [1,2,3,1]\n",
    "\n",
    "Output: true\n"
   ]
  },
  {
   "cell_type": "code",
   "execution_count": 15,
   "metadata": {},
   "outputs": [],
   "source": [
    "# Q6. SOLN.\n",
    "\n",
    "def contains_duplicate(nums):\n",
    "    \n",
    "    num_set = set()\n",
    "    \n",
    "    \n",
    "    for i in nums:\n",
    "        \n",
    "        if i in num_set:\n",
    "            \n",
    "            return True\n",
    "        \n",
    "        num_set.add(i)\n",
    "        \n",
    "    return False"
   ]
  },
  {
   "cell_type": "code",
   "execution_count": 16,
   "metadata": {},
   "outputs": [
    {
     "name": "stdout",
     "output_type": "stream",
     "text": [
      "True\n"
     ]
    }
   ],
   "source": [
    "\n",
    "nums = [10, 15, 16, 18, 10, 11, 10]\n",
    "print(contains_duplicate(nums)) "
   ]
  },
  {
   "cell_type": "markdown",
   "metadata": {},
   "source": [
    "**Q7.** Given an integer array nums, move all 0's to the end of it while maintaining the relative order of the nonzero elements.\n",
    "\n",
    "Note that you must do this in-place without making a copy of the array.\n",
    "\n",
    "**Example 1:**\n",
    "Input: nums = [0,1,0,3,12]\n",
    "Output: [1,3,12,0,0]\n",
    "\n"
   ]
  },
  {
   "cell_type": "code",
   "execution_count": 18,
   "metadata": {},
   "outputs": [],
   "source": [
    "# Q7. SOLN.\n",
    "\n",
    "def move_zeroes(nums):\n",
    "    \n",
    "    no_zero = 0\n",
    "    \n",
    "    for i in range(len(nums)):\n",
    "        \n",
    "        if nums[i] != 0:\n",
    "            \n",
    "            nums[i], nums[no_zero] = nums[no_zero], nums[i]\n",
    "            \n",
    "            no_zero += 1"
   ]
  },
  {
   "cell_type": "code",
   "execution_count": 19,
   "metadata": {},
   "outputs": [
    {
     "name": "stdout",
     "output_type": "stream",
     "text": [
      "Output: [1, 3, 12, 0, 0]\n"
     ]
    }
   ],
   "source": [
    "\n",
    "nums = [0, 1, 3, 0, 12]\n",
    "move_zeroes(nums)\n",
    "print(nums)"
   ]
  },
  {
   "cell_type": "markdown",
   "metadata": {},
   "source": [
    "**Q8.** You have a set of integers s, which originally contains all the numbers from 1 to n. Unfortunately, due to some error, one of the numbers in s got duplicated to another number in the set, which results in repetition of one number and loss of another number.\n",
    "\n",
    "You are given an integer array nums representing the data status of this set after the error.\n",
    "\n",
    "Find the number that occurs twice and the number that is missing and return them in the form of an array.\n",
    "\n",
    "**Example 1:**\n",
    "Input: nums = [1,2,2,4]\n",
    "Output: [2,3]\n",
    "\n"
   ]
  },
  {
   "cell_type": "code",
   "execution_count": 20,
   "metadata": {},
   "outputs": [],
   "source": [
    "# Q8. SOLN.\n",
    "\n",
    "def find_nums(nums):\n",
    "    \n",
    "    n = len(nums)\n",
    "    \n",
    "    total_sum = n * (n + 1) // 2\n",
    "    \n",
    "    array_sum = sum(nums)\n",
    "    \n",
    "    duplicate = array_sum - total_sum\n",
    "    \n",
    "    missing = duplicate + total_sum - array_sum\n",
    "    \n",
    "    \n",
    "    return [duplicate, missing]"
   ]
  },
  {
   "cell_type": "code",
   "execution_count": 21,
   "metadata": {},
   "outputs": [
    {
     "name": "stdout",
     "output_type": "stream",
     "text": [
      "[-1, 0]\n"
     ]
    }
   ],
   "source": [
    "\n",
    "nums = [1, 2, 2, 4]\n",
    "result = find_nums(nums)\n",
    "print (result)"
   ]
  },
  {
   "cell_type": "code",
   "execution_count": null,
   "metadata": {},
   "outputs": [],
   "source": []
  }
 ],
 "metadata": {
  "kernelspec": {
   "display_name": "Python 3",
   "language": "python",
   "name": "python3"
  },
  "language_info": {
   "codemirror_mode": {
    "name": "ipython",
    "version": 3
   },
   "file_extension": ".py",
   "mimetype": "text/x-python",
   "name": "python",
   "nbconvert_exporter": "python",
   "pygments_lexer": "ipython3",
   "version": "3.7.3"
  }
 },
 "nbformat": 4,
 "nbformat_minor": 2
}
