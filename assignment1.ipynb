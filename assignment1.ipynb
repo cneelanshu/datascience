{
 "cells": [
  {
   "cell_type": "markdown",
   "id": "aa8796b0-4fb0-47a0-a7e8-250883ef2f8a",
   "metadata": {},
   "source": [
    "Assignment - 1"
   ]
  },
  {
   "cell_type": "raw",
   "id": "994981cb-0fb9-4ff8-8b53-d43fd1adab45",
   "metadata": {},
   "source": [
    "Q1. Create one variable containing following type of data:\n",
    "(i) string\n",
    "(ii) list\n",
    "(iii) float\n",
    "(iv) tuple"
   ]
  },
  {
   "cell_type": "code",
   "execution_count": 1,
   "id": "9be36527-3348-4124-abe9-1859fba25f77",
   "metadata": {},
   "outputs": [],
   "source": [
    "# Q1.Ans\n",
    "\n",
    "neel_1 = ['neelanshu', [2,3,4], 17.98, (5,6,7)]"
   ]
  },
  {
   "cell_type": "code",
   "execution_count": 2,
   "id": "16353ce1-2712-4825-8b3f-fb4716f9ad73",
   "metadata": {},
   "outputs": [
    {
     "data": {
      "text/plain": [
       "['neelanshu', [2, 3, 4], 17.98, (5, 6, 7)]"
      ]
     },
     "execution_count": 2,
     "metadata": {},
     "output_type": "execute_result"
    }
   ],
   "source": [
    "neel_1"
   ]
  },
  {
   "cell_type": "raw",
   "id": "917b7564-e390-4185-b52c-55224213a576",
   "metadata": {},
   "source": [
    "Q2. Given are some following variables containing data:\n",
    "(i) var1 = ‘ ‘\n",
    "(ii) var2 = ‘[ DS , ML , Python]’\n",
    "(iii) var3 = [ ‘DS’ , ’ML’ , ‘Python’ ]\n",
    "(iv) var4 = 1.\n",
    "What will be the data type of the above given variable."
   ]
  },
  {
   "cell_type": "markdown",
   "id": "83386b3c-fe1d-4ae8-bb57-44525819fa82",
   "metadata": {},
   "source": [
    "# Q2. Ans\n",
    "(i) string\n",
    "(ii) string\n",
    "(iii) list\n",
    "(iv) integer"
   ]
  },
  {
   "cell_type": "raw",
   "id": "1a570347-8211-40ae-a4d7-ff47e778f4af",
   "metadata": {},
   "source": [
    "Q3. Explain the use of the following operators using an example:\n",
    "(i) /\n",
    "(ii) %\n",
    "(iii) //\n",
    "(iv) **"
   ]
  },
  {
   "cell_type": "code",
   "execution_count": 3,
   "id": "42af5315-0666-49ec-a37b-2367e963bba0",
   "metadata": {},
   "outputs": [
    {
     "data": {
      "text/plain": [
       "6.5"
      ]
     },
     "execution_count": 3,
     "metadata": {},
     "output_type": "execute_result"
    }
   ],
   "source": [
    "#Q3 (i)\n",
    "\n",
    "13/2  #(i)division"
   ]
  },
  {
   "cell_type": "code",
   "execution_count": 4,
   "id": "4fce52b4-b7ca-4df2-895b-396cfafe029f",
   "metadata": {},
   "outputs": [
    {
     "data": {
      "text/plain": [
       "1"
      ]
     },
     "execution_count": 4,
     "metadata": {},
     "output_type": "execute_result"
    }
   ],
   "source": [
    "#Q3 (ii)\n",
    "\n",
    "13%2  # (ii)remainder"
   ]
  },
  {
   "cell_type": "code",
   "execution_count": 5,
   "id": "0ea6c6d3-6ac7-498d-a238-bf1e2a686d5d",
   "metadata": {},
   "outputs": [
    {
     "data": {
      "text/plain": [
       "6"
      ]
     },
     "execution_count": 5,
     "metadata": {},
     "output_type": "execute_result"
    }
   ],
   "source": [
    "#Q3 (iii)\n",
    "\n",
    "13//2  #(iii) whole number quotient"
   ]
  },
  {
   "cell_type": "code",
   "execution_count": 7,
   "id": "601a296e-ab71-468a-aaf6-eda4bb5f045c",
   "metadata": {},
   "outputs": [
    {
     "data": {
      "text/plain": [
       "32"
      ]
     },
     "execution_count": 7,
     "metadata": {},
     "output_type": "execute_result"
    }
   ],
   "source": [
    "#Q3 (iv)\n",
    "\n",
    "2**5  #(iv) exponents"
   ]
  },
  {
   "cell_type": "raw",
   "id": "6b6113c4-d8b7-4767-954d-f7dd6d6edc57",
   "metadata": {},
   "source": [
    "Q4. Create a list of length 10 of your choice containing multiple types of data. Using for loop print the\n",
    "element and its data type."
   ]
  },
  {
   "cell_type": "code",
   "execution_count": 8,
   "id": "6f9969b4-a964-401e-adc8-7181cc0544b8",
   "metadata": {},
   "outputs": [
    {
     "name": "stdout",
     "output_type": "stream",
     "text": [
      "10\n",
      "<class 'int'>\n",
      "20\n",
      "<class 'int'>\n",
      "30\n",
      "<class 'int'>\n",
      "40\n",
      "<class 'int'>\n",
      "50\n",
      "<class 'int'>\n",
      "60\n",
      "<class 'int'>\n",
      "neel\n",
      "<class 'str'>\n",
      "137.924867\n",
      "<class 'float'>\n",
      "[1, 3, 8, 9]\n",
      "<class 'list'>\n",
      "deep\n",
      "<class 'str'>\n"
     ]
    }
   ],
   "source": [
    "#Q4. Ans\n",
    "\n",
    "l1 = [10,20,30,40,50,60,\"neel\",137.924867, [1,3,8,9], 'deep']\n",
    "\n",
    "for i in l1:\n",
    "    print(i)\n",
    "    print(type(i))"
   ]
  },
  {
   "cell_type": "raw",
   "id": "4c4d99ab-b4e1-4813-b92c-948a528ceee1",
   "metadata": {},
   "source": [
    "Q5. Using a while loop, verify if the number A is purely divisible by number B and if so then how many\n",
    "times it can be divisible."
   ]
  },
  {
   "cell_type": "code",
   "execution_count": 37,
   "id": "1c6f1dce-1ca5-4320-b4fc-38f495645368",
   "metadata": {},
   "outputs": [
    {
     "name": "stdout",
     "output_type": "stream",
     "text": [
      "8\n"
     ]
    }
   ],
   "source": [
    "#Q5. Ans\n",
    "\n",
    "A = 100\n",
    "B = 1\n",
    "l = []\n",
    "while A > B:\n",
    "    if A % B == 0:\n",
    "        #print(i)\n",
    "        l.append(B)\n",
    "    B = B + 1\n",
    "    \n",
    "#print(l)\n",
    "print(len(l))"
   ]
  },
  {
   "cell_type": "raw",
   "id": "0cf82556-e187-45df-bc74-d20360ca85a3",
   "metadata": {},
   "source": [
    "Q6. Create a list containing 25 int type data. Using for loop and if-else condition print if the element is\n",
    "divisible by 3 or not."
   ]
  },
  {
   "cell_type": "code",
   "execution_count": 35,
   "id": "3098bd0f-3e75-4188-8b9d-75ab282dd683",
   "metadata": {},
   "outputs": [],
   "source": [
    "#Q6. Ans\n",
    "\n",
    "list1 =list(range(101, 126))"
   ]
  },
  {
   "cell_type": "code",
   "execution_count": 36,
   "id": "1e46bcf6-424a-4b1f-a2d3-175baca29adc",
   "metadata": {},
   "outputs": [
    {
     "name": "stdout",
     "output_type": "stream",
     "text": [
      "[101, 102, 103, 104, 105, 106, 107, 108, 109, 110, 111, 112, 113, 114, 115, 116, 117, 118, 119, 120, 121, 122, 123, 124, 125]\n"
     ]
    }
   ],
   "source": [
    "print(list1)"
   ]
  },
  {
   "cell_type": "code",
   "execution_count": 39,
   "id": "c583d012-64d3-4e1a-997a-0f1c24a229cd",
   "metadata": {},
   "outputs": [
    {
     "name": "stdout",
     "output_type": "stream",
     "text": [
      "101\n",
      "not divisible by 3\n",
      "102\n",
      "divisible by 3\n",
      "103\n",
      "not divisible by 3\n",
      "104\n",
      "not divisible by 3\n",
      "105\n",
      "divisible by 3\n",
      "106\n",
      "not divisible by 3\n",
      "107\n",
      "not divisible by 3\n",
      "108\n",
      "divisible by 3\n",
      "109\n",
      "not divisible by 3\n",
      "110\n",
      "not divisible by 3\n",
      "111\n",
      "divisible by 3\n",
      "112\n",
      "not divisible by 3\n",
      "113\n",
      "not divisible by 3\n",
      "114\n",
      "divisible by 3\n",
      "115\n",
      "not divisible by 3\n",
      "116\n",
      "not divisible by 3\n",
      "117\n",
      "divisible by 3\n",
      "118\n",
      "not divisible by 3\n",
      "119\n",
      "not divisible by 3\n",
      "120\n",
      "divisible by 3\n",
      "121\n",
      "not divisible by 3\n",
      "122\n",
      "not divisible by 3\n",
      "123\n",
      "divisible by 3\n",
      "124\n",
      "not divisible by 3\n",
      "125\n",
      "not divisible by 3\n"
     ]
    }
   ],
   "source": [
    "for i in list1:\n",
    "    if i % 3 == 0:\n",
    "        print(i)\n",
    "        print(\"divisible by 3\")\n",
    "        \n",
    "    else:\n",
    "        print(i)\n",
    "        print(\"not divisible by 3\")\n",
    "        "
   ]
  },
  {
   "cell_type": "raw",
   "id": "de9a8044-2749-43e8-9cbe-328e4b43dcbd",
   "metadata": {},
   "source": [
    "Q7. What do you understand about mutable and immutable data types? Give examples for both showing\n",
    "this property."
   ]
  },
  {
   "cell_type": "raw",
   "id": "a2e8f286-2234-4804-b913-a7c52910666a",
   "metadata": {},
   "source": [
    "mutable data types - whose internal state can be changed. ex - list etc\n",
    "immutable data types - whose internal elements cannot be changed. ex - string etc"
   ]
  },
  {
   "cell_type": "code",
   "execution_count": 40,
   "id": "c476264a-1ae1-474d-be6b-48e6d6088412",
   "metadata": {},
   "outputs": [
    {
     "name": "stdout",
     "output_type": "stream",
     "text": [
      "[89, 'dipu', 12.3]\n"
     ]
    }
   ],
   "source": [
    "#Q7. Ans\n",
    "\n",
    "a = [89,'nishu',12.3]     #list\n",
    "\n",
    "a[1] = 'dipu'\n",
    "\n",
    "print(a)          # mutable"
   ]
  },
  {
   "cell_type": "code",
   "execution_count": 41,
   "id": "35cd840c-3bb1-4342-80eb-e2311d5edb92",
   "metadata": {},
   "outputs": [
    {
     "ename": "TypeError",
     "evalue": "'str' object does not support item assignment",
     "output_type": "error",
     "traceback": [
      "\u001b[0;31m---------------------------------------------------------------------------\u001b[0m",
      "\u001b[0;31mTypeError\u001b[0m                                 Traceback (most recent call last)",
      "Cell \u001b[0;32mIn[41], line 3\u001b[0m\n\u001b[1;32m      1\u001b[0m b \u001b[38;5;241m=\u001b[39m \u001b[38;5;124m\"\u001b[39m\u001b[38;5;124mneelanshu\u001b[39m\u001b[38;5;124m\"\u001b[39m\n\u001b[0;32m----> 3\u001b[0m \u001b[43mb\u001b[49m\u001b[43m[\u001b[49m\u001b[38;5;241;43m0\u001b[39;49m\u001b[43m]\u001b[49m \u001b[38;5;241m=\u001b[39m \u001b[38;5;124m'\u001b[39m\u001b[38;5;124md\u001b[39m\u001b[38;5;124m'\u001b[39m\n\u001b[1;32m      5\u001b[0m \u001b[38;5;28mprint\u001b[39m(b)\n",
      "\u001b[0;31mTypeError\u001b[0m: 'str' object does not support item assignment"
     ]
    }
   ],
   "source": [
    "b = \"neelanshu\"\n",
    "\n",
    "b[0] = 'd'\n",
    "\n",
    "print(b)   # immutable"
   ]
  },
  {
   "cell_type": "code",
   "execution_count": null,
   "id": "3ca46dfc-751a-4aa1-b91f-457c5f53b77e",
   "metadata": {},
   "outputs": [],
   "source": []
  }
 ],
 "metadata": {
  "kernelspec": {
   "display_name": "Python 3 (ipykernel)",
   "language": "python",
   "name": "python3"
  },
  "language_info": {
   "codemirror_mode": {
    "name": "ipython",
    "version": 3
   },
   "file_extension": ".py",
   "mimetype": "text/x-python",
   "name": "python",
   "nbconvert_exporter": "python",
   "pygments_lexer": "ipython3",
   "version": "3.10.8"
  }
 },
 "nbformat": 4,
 "nbformat_minor": 5
}
