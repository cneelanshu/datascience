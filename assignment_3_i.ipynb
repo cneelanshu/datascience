{
 "cells": [
  {
   "cell_type": "markdown",
   "metadata": {},
   "source": [
    "***Q1.*** Which keyword is used to create a function? Create a function to return a list of odd numbers in the\n",
    "range of 1 to 25.\n"
   ]
  },
  {
   "cell_type": "markdown",
   "metadata": {},
   "source": [
    "### Q1 ANS. the keyword used to create a function 'def'."
   ]
  },
  {
   "cell_type": "code",
   "execution_count": 17,
   "metadata": {},
   "outputs": [
    {
     "data": {
      "text/plain": [
       "[1, 3, 5, 7, 9, 11, 13, 15, 17, 19, 21, 23]"
      ]
     },
     "execution_count": 17,
     "metadata": {},
     "output_type": "execute_result"
    }
   ],
   "source": [
    "# Q1 ANS.\n",
    "\n",
    "def odd_numbers():\n",
    "    \n",
    "    l = []\n",
    "    \n",
    "    for i in range(1,25):\n",
    "        \n",
    "        if i % 2 != 0:\n",
    "            \n",
    "            l.append(i)\n",
    "            \n",
    "    return l\n",
    "\n",
    "odd_numbers()"
   ]
  },
  {
   "cell_type": "markdown",
   "metadata": {},
   "source": [
    "***Q2.*** Why *args and **kwargs is used in some functions? Create a function each for *args and **kwargs\n",
    "to demonstrate their use.\n"
   ]
  },
  {
   "cell_type": "markdown",
   "metadata": {},
   "source": [
    "### Q2 ANS. if  *args is a function argument we can use as many inputs as we want to give. A function with *args return 'tuple' as data type. ###  We can pass multiple inputs using keyword arguments(*kwargs). it returns output in the form of keywords and their values(i.e as dictionary) ###ex. age, city, mob are keywords, 28, Mumbai and mob are values"
   ]
  },
  {
   "cell_type": "code",
   "execution_count": 18,
   "metadata": {},
   "outputs": [
    {
     "name": "stdout",
     "output_type": "stream",
     "text": [
      "neel\n",
      "(28, 'Mumbai', 9865487, 'worli')\n",
      "neel\n",
      "{'age': 28, 'city': 'Mumbai', 'mob': 9865487}\n"
     ]
    }
   ],
   "source": [
    "# Q2. SOLN. \n",
    "\n",
    "def person(name, *data):\n",
    "    print(name)\n",
    "    print(data)\n",
    "\n",
    "person(\"neel\", 28,\"Mumbai\", 9865487, \"worli\")\n",
    "\n",
    "\n",
    "# Q2. SOLN.\n",
    "\n",
    "def person(name, **data): \n",
    "    print(name)\n",
    "    print(data)\n",
    "\n",
    "person(\"neel\",age = 28,city = \"Mumbai\", mob = 9865487)"
   ]
  },
  {
   "cell_type": "markdown",
   "metadata": {},
   "source": [
    "**Q3.**  What is an iterator in python? Name the method used to initialise the iterator object and the method\n",
    "used for iteration. Use these methods to print the first five elements of the given list [2, 4, 6, 8, 10, 12, 14,\n",
    "16, 18, 20].\n"
   ]
  },
  {
   "cell_type": "markdown",
   "metadata": {},
   "source": [
    "###  Q3. ANS. An iterator in Python is an object that is used to iterate over ( i.e. traverse through all the values) iterable objects( built-in containers that contains a countable number of values) like lists, tuples, dictionaries and sets. The Python iterators object is initialized using the iter() method ( __iter__()). It uses the next() method for iteration(__next__()). The next method returns the next value for the iterable.\n",
    "\n"
   ]
  },
  {
   "cell_type": "code",
   "execution_count": 19,
   "metadata": {},
   "outputs": [
    {
     "name": "stdout",
     "output_type": "stream",
     "text": [
      "2\n",
      "4\n",
      "6\n",
      "8\n",
      "10\n"
     ]
    }
   ],
   "source": [
    "# Q3 SOLN. \n",
    "\n",
    "nums = [2, 4, 6, 8, 10, 12, 14, 16, 18, 20]\n",
    "it = iter(nums)\n",
    "\n",
    "print(next(it))\n",
    "print(next(it))\n",
    "print(next(it))\n",
    "print(next(it))\n",
    "print(next(it))"
   ]
  },
  {
   "cell_type": "markdown",
   "metadata": {},
   "source": [
    "**Q4.**  What is a generator function in python? Why yield keyword is used? Give an example of a generator\n",
    "function.\n"
   ]
  },
  {
   "cell_type": "markdown",
   "metadata": {},
   "source": [
    "### Q4. ANS. A generator is a function that returns an iterator (object) that iterate over and return the sequence of values(one value at a time) as we don't want to store all the values in memory at once. yield is used because it doesn't terminates the function entirely, instead it pauses the function , saving all its states and later continues from there on successive calls."
   ]
  },
  {
   "cell_type": "code",
   "execution_count": 20,
   "metadata": {},
   "outputs": [
    {
     "name": "stdout",
     "output_type": "stream",
     "text": [
      "<generator object fun at 0x000000C301A26930>\n",
      "Apple\n",
      "100\n",
      "Orange\n",
      "200\n",
      "Banana\n",
      "300\n",
      "Prunes\n",
      "1000\n"
     ]
    }
   ],
   "source": [
    "# Q4. SOLN.\n",
    "\n",
    "def fun():\n",
    "    x = 100\n",
    "    print(\"Apple\")\n",
    "    yield x\n",
    "    x = 200\n",
    "    print(\"Orange\")\n",
    "    yield x\n",
    "    x = 300\n",
    "    print(\"Banana\")\n",
    "    yield x\n",
    "    print(\"Prunes\")\n",
    "    yield 1000\n",
    "\n",
    "\n",
    "val = fun()\n",
    "print(val)\n",
    "\n",
    "print(next(val))\n",
    "print(next(val))\n",
    "print(next(val))\n",
    "print(next(val))\n"
   ]
  },
  {
   "cell_type": "markdown",
   "metadata": {},
   "source": [
    "**Q5.** Create a generator function for prime numbers less than 1000. Use the next() method to print the\n",
    "first 20 prime numbers.\n"
   ]
  },
  {
   "cell_type": "code",
   "execution_count": 14,
   "metadata": {},
   "outputs": [
    {
     "name": "stdout",
     "output_type": "stream",
     "text": [
      "<generator object prime_no at 0x00000047CD812930>\n",
      "2\n",
      "3\n",
      "4\n",
      "5\n",
      "6\n",
      "7\n",
      "8\n",
      "9\n",
      "10\n",
      "11\n",
      "12\n",
      "13\n",
      "14\n",
      "15\n",
      "16\n",
      "17\n",
      "18\n"
     ]
    }
   ],
   "source": [
    "# Q5. SOLN.\n",
    "\n",
    "def prime_no():\n",
    "    for var1 in range(2,21):\n",
    "        for var2 in range(2,var1-1):\n",
    "            if(var1%var2==0):\n",
    "                yield var1\n",
    "                break\n",
    "        else:\n",
    "            yield var1\n",
    "\n",
    "val = prime_no()\n",
    "print(val)\n",
    "\n",
    "print(next(val))\n",
    "print(next(val))\n",
    "print(next(val))\n",
    "print(next(val))\n",
    "print(next(val))\n",
    "print(next(val))\n",
    "print(next(val))\n",
    "print(next(val))\n",
    "print(next(val))\n",
    "print(next(val))\n",
    "print(next(val))\n",
    "print(next(val))\n",
    "print(next(val))\n",
    "print(next(val))\n",
    "print(next(val))\n",
    "print(next(val))\n",
    "print(next(val))"
   ]
  },
  {
   "cell_type": "markdown",
   "metadata": {},
   "source": [
    "**Q6.** Write a python program to print the first 10 Fibonacci numbers using a while loop."
   ]
  },
  {
   "cell_type": "code",
   "execution_count": 6,
   "metadata": {},
   "outputs": [
    {
     "name": "stdout",
     "output_type": "stream",
     "text": [
      "3\n",
      "5\n",
      "8\n",
      "13\n",
      "21\n",
      "34\n",
      "55\n",
      "89\n",
      "144\n",
      "233\n"
     ]
    }
   ],
   "source": [
    "# Q6. SOLN.\n",
    "\n",
    "a = 1\n",
    "b = 2\n",
    "\n",
    "n = 1\n",
    "\n",
    "while n <= 10:\n",
    "    \n",
    "    c = a + b\n",
    "    \n",
    "    print(c)\n",
    "    \n",
    "    a = b\n",
    "    \n",
    "    b = c\n",
    "    \n",
    "    n += 1\n",
    "    \n",
    "    \n",
    "    "
   ]
  },
  {
   "cell_type": "markdown",
   "metadata": {},
   "source": [
    "Q7. Write a List Comprehension to iterate through the given string: ‘pwskills’.\n",
    "\n",
    "Expected output: ['p', 'w', 's', 'k', 'i', 'l', 'l', 's']\n"
   ]
  },
  {
   "cell_type": "code",
   "execution_count": 1,
   "metadata": {},
   "outputs": [
    {
     "data": {
      "text/plain": [
       "['p', 'w', 's', 'k', 'i', 'l', 'l', 's']"
      ]
     },
     "execution_count": 1,
     "metadata": {},
     "output_type": "execute_result"
    }
   ],
   "source": [
    "# Q7. SOLN.\n",
    "\n",
    "s = \"pwskills\"\n",
    "\n",
    "[i for i in s]"
   ]
  },
  {
   "cell_type": "markdown",
   "metadata": {},
   "source": [
    "Q8. Write a python program to check whether a given number is Palindrome or not using a while loop.\n"
   ]
  },
  {
   "cell_type": "code",
   "execution_count": 17,
   "metadata": {},
   "outputs": [
    {
     "name": "stdout",
     "output_type": "stream",
     "text": [
      "enter the string : 12321\n",
      "the reversed string is :  12321\n",
      "the string is palindrome\n"
     ]
    }
   ],
   "source": [
    "# Q8 SOLN.\n",
    "\n",
    "st = input(\"enter the string : \")\n",
    "\n",
    "rev = st[::-1]\n",
    "\n",
    "print(\"the reversed string is : \", rev)\n",
    "\n",
    "\n",
    "if st == rev:\n",
    "    print(\"the string is palindrome\")\n",
    "\n",
    "else:\n",
    "\n",
    "    print(\"not a palindrome\")\n"
   ]
  },
  {
   "cell_type": "markdown",
   "metadata": {},
   "source": [
    "Q9. Write a code to print odd numbers from 1 to 100 using list comprehension.\n",
    "\n",
    "Note: Use a list comprehension to create a list from 1 to 100 and use another List comprehension to filter\n",
    "out odd numbers"
   ]
  },
  {
   "cell_type": "code",
   "execution_count": 3,
   "metadata": {},
   "outputs": [
    {
     "data": {
      "text/plain": [
       "[1,\n",
       " 3,\n",
       " 5,\n",
       " 7,\n",
       " 9,\n",
       " 11,\n",
       " 13,\n",
       " 15,\n",
       " 17,\n",
       " 19,\n",
       " 21,\n",
       " 23,\n",
       " 25,\n",
       " 27,\n",
       " 29,\n",
       " 31,\n",
       " 33,\n",
       " 35,\n",
       " 37,\n",
       " 39,\n",
       " 41,\n",
       " 43,\n",
       " 45,\n",
       " 47,\n",
       " 49,\n",
       " 51,\n",
       " 53,\n",
       " 55,\n",
       " 57,\n",
       " 59,\n",
       " 61,\n",
       " 63,\n",
       " 65,\n",
       " 67,\n",
       " 69,\n",
       " 71,\n",
       " 73,\n",
       " 75,\n",
       " 77,\n",
       " 79,\n",
       " 81,\n",
       " 83,\n",
       " 85,\n",
       " 87,\n",
       " 89,\n",
       " 91,\n",
       " 93,\n",
       " 95,\n",
       " 97,\n",
       " 99]"
      ]
     },
     "execution_count": 3,
     "metadata": {},
     "output_type": "execute_result"
    }
   ],
   "source": [
    "# Q9. SOLN.\n",
    "\n",
    "[x for x in range(1,100) if x % 2 != 0]"
   ]
  },
  {
   "cell_type": "code",
   "execution_count": null,
   "metadata": {},
   "outputs": [],
   "source": []
  }
 ],
 "metadata": {
  "kernelspec": {
   "display_name": "Python 3",
   "language": "python",
   "name": "python3"
  },
  "language_info": {
   "codemirror_mode": {
    "name": "ipython",
    "version": 3
   },
   "file_extension": ".py",
   "mimetype": "text/x-python",
   "name": "python",
   "nbconvert_exporter": "python",
   "pygments_lexer": "ipython3",
   "version": "3.7.3"
  }
 },
 "nbformat": 4,
 "nbformat_minor": 2
}
